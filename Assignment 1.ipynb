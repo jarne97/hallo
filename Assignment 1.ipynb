{
 "cells": [
  {
   "cell_type": "markdown",
   "metadata": {},
   "source": [
    "## Assignment 1"
   ]
  },
  {
   "cell_type": "markdown",
   "metadata": {},
   "source": [
    "Import the libraries and data"
   ]
  },
  {
   "cell_type": "code",
   "execution_count": 1,
   "metadata": {},
   "outputs": [],
   "source": [
    "# importing stuff for drawing plots\n",
    "import pandas as pd\n",
    "import seaborn as sns\n",
    "import matplotlib.pyplot as plt\n",
    "import numpy as np\n",
    "\n",
    "# open the dataframes with the right separators\n",
    "step_data = pd.read_csv(\"steps.csv\", sep=\";\")\n",
    "survey_data = pd.read_csv('survey.csv')"
   ]
  },
  {
   "cell_type": "markdown",
   "metadata": {},
   "source": [
    "Merge the data"
   ]
  },
  {
   "cell_type": "code",
   "execution_count": 2,
   "metadata": {
    "scrolled": true
   },
   "outputs": [
    {
     "data": {
      "text/html": [
       "<div>\n",
       "<style scoped>\n",
       "    .dataframe tbody tr th:only-of-type {\n",
       "        vertical-align: middle;\n",
       "    }\n",
       "\n",
       "    .dataframe tbody tr th {\n",
       "        vertical-align: top;\n",
       "    }\n",
       "\n",
       "    .dataframe thead th {\n",
       "        text-align: right;\n",
       "    }\n",
       "</style>\n",
       "<table border=\"1\" class=\"dataframe\">\n",
       "  <thead>\n",
       "    <tr style=\"text-align: right;\">\n",
       "      <th></th>\n",
       "      <th>id</th>\n",
       "      <th>city</th>\n",
       "      <th>gender</th>\n",
       "      <th>age</th>\n",
       "      <th>hh_size</th>\n",
       "      <th>education</th>\n",
       "      <th>education_1</th>\n",
       "      <th>height</th>\n",
       "      <th>weight</th>\n",
       "      <th>20-6-2013</th>\n",
       "      <th>...</th>\n",
       "      <th>4-5-2014</th>\n",
       "      <th>5-5-2014</th>\n",
       "      <th>6-5-2014</th>\n",
       "      <th>7-5-2014</th>\n",
       "      <th>8-5-2014</th>\n",
       "      <th>9-5-2014</th>\n",
       "      <th>10-5-2014</th>\n",
       "      <th>11-5-2014</th>\n",
       "      <th>12-5-2014</th>\n",
       "      <th>13-5-2014</th>\n",
       "    </tr>\n",
       "  </thead>\n",
       "  <tbody>\n",
       "    <tr>\n",
       "      <th>0</th>\n",
       "      <td>1</td>\n",
       "      <td>Bordeaux</td>\n",
       "      <td>Male</td>\n",
       "      <td>25-34</td>\n",
       "      <td>4</td>\n",
       "      <td>4</td>\n",
       "      <td>Master or doctorate</td>\n",
       "      <td>178.0</td>\n",
       "      <td>98.0</td>\n",
       "      <td>NaN</td>\n",
       "      <td>...</td>\n",
       "      <td>NaN</td>\n",
       "      <td>NaN</td>\n",
       "      <td>NaN</td>\n",
       "      <td>NaN</td>\n",
       "      <td>NaN</td>\n",
       "      <td>NaN</td>\n",
       "      <td>NaN</td>\n",
       "      <td>NaN</td>\n",
       "      <td>NaN</td>\n",
       "      <td>NaN</td>\n",
       "    </tr>\n",
       "    <tr>\n",
       "      <th>1</th>\n",
       "      <td>2</td>\n",
       "      <td>Lille</td>\n",
       "      <td>Male</td>\n",
       "      <td>35-44</td>\n",
       "      <td>1</td>\n",
       "      <td>3</td>\n",
       "      <td>Bachelor</td>\n",
       "      <td>180.0</td>\n",
       "      <td>77.0</td>\n",
       "      <td>NaN</td>\n",
       "      <td>...</td>\n",
       "      <td>NaN</td>\n",
       "      <td>NaN</td>\n",
       "      <td>NaN</td>\n",
       "      <td>NaN</td>\n",
       "      <td>NaN</td>\n",
       "      <td>NaN</td>\n",
       "      <td>NaN</td>\n",
       "      <td>NaN</td>\n",
       "      <td>NaN</td>\n",
       "      <td>NaN</td>\n",
       "    </tr>\n",
       "    <tr>\n",
       "      <th>2</th>\n",
       "      <td>3</td>\n",
       "      <td>Montpellier</td>\n",
       "      <td>Male</td>\n",
       "      <td>25-34</td>\n",
       "      <td>2</td>\n",
       "      <td>2</td>\n",
       "      <td>Master or doctorate</td>\n",
       "      <td>180.0</td>\n",
       "      <td>83.0</td>\n",
       "      <td>NaN</td>\n",
       "      <td>...</td>\n",
       "      <td>3914.0</td>\n",
       "      <td>4364.0</td>\n",
       "      <td>NaN</td>\n",
       "      <td>NaN</td>\n",
       "      <td>NaN</td>\n",
       "      <td>6227.0</td>\n",
       "      <td>4567.0</td>\n",
       "      <td>2567.0</td>\n",
       "      <td>1129.0</td>\n",
       "      <td>NaN</td>\n",
       "    </tr>\n",
       "    <tr>\n",
       "      <th>3</th>\n",
       "      <td>4</td>\n",
       "      <td>Lyon</td>\n",
       "      <td>Male</td>\n",
       "      <td>&lt;25</td>\n",
       "      <td>1</td>\n",
       "      <td>1</td>\n",
       "      <td>Bachelor</td>\n",
       "      <td>178.0</td>\n",
       "      <td>80.0</td>\n",
       "      <td>NaN</td>\n",
       "      <td>...</td>\n",
       "      <td>NaN</td>\n",
       "      <td>NaN</td>\n",
       "      <td>NaN</td>\n",
       "      <td>NaN</td>\n",
       "      <td>NaN</td>\n",
       "      <td>NaN</td>\n",
       "      <td>NaN</td>\n",
       "      <td>NaN</td>\n",
       "      <td>NaN</td>\n",
       "      <td>NaN</td>\n",
       "    </tr>\n",
       "    <tr>\n",
       "      <th>4</th>\n",
       "      <td>5</td>\n",
       "      <td>Montpellier</td>\n",
       "      <td>Female</td>\n",
       "      <td>25-34</td>\n",
       "      <td>3</td>\n",
       "      <td>4</td>\n",
       "      <td>Bachelor</td>\n",
       "      <td>167.0</td>\n",
       "      <td>61.0</td>\n",
       "      <td>NaN</td>\n",
       "      <td>...</td>\n",
       "      <td>NaN</td>\n",
       "      <td>NaN</td>\n",
       "      <td>NaN</td>\n",
       "      <td>NaN</td>\n",
       "      <td>NaN</td>\n",
       "      <td>NaN</td>\n",
       "      <td>NaN</td>\n",
       "      <td>NaN</td>\n",
       "      <td>NaN</td>\n",
       "      <td>NaN</td>\n",
       "    </tr>\n",
       "  </tbody>\n",
       "</table>\n",
       "<p>5 rows × 337 columns</p>\n",
       "</div>"
      ],
      "text/plain": [
       "   id         city  gender    age  hh_size  education          education_1  \\\n",
       "0   1     Bordeaux    Male  25-34        4          4  Master or doctorate   \n",
       "1   2        Lille    Male  35-44        1          3             Bachelor   \n",
       "2   3  Montpellier    Male  25-34        2          2  Master or doctorate   \n",
       "3   4         Lyon    Male    <25        1          1             Bachelor   \n",
       "4   5  Montpellier  Female  25-34        3          4             Bachelor   \n",
       "\n",
       "   height  weight  20-6-2013  ...  4-5-2014  5-5-2014  6-5-2014  7-5-2014  \\\n",
       "0   178.0    98.0        NaN  ...       NaN       NaN       NaN       NaN   \n",
       "1   180.0    77.0        NaN  ...       NaN       NaN       NaN       NaN   \n",
       "2   180.0    83.0        NaN  ...    3914.0    4364.0       NaN       NaN   \n",
       "3   178.0    80.0        NaN  ...       NaN       NaN       NaN       NaN   \n",
       "4   167.0    61.0        NaN  ...       NaN       NaN       NaN       NaN   \n",
       "\n",
       "   8-5-2014  9-5-2014  10-5-2014  11-5-2014  12-5-2014  13-5-2014  \n",
       "0       NaN       NaN        NaN        NaN        NaN        NaN  \n",
       "1       NaN       NaN        NaN        NaN        NaN        NaN  \n",
       "2       NaN    6227.0     4567.0     2567.0     1129.0        NaN  \n",
       "3       NaN       NaN        NaN        NaN        NaN        NaN  \n",
       "4       NaN       NaN        NaN        NaN        NaN        NaN  \n",
       "\n",
       "[5 rows x 337 columns]"
      ]
     },
     "execution_count": 2,
     "metadata": {},
     "output_type": "execute_result"
    }
   ],
   "source": [
    "# merge the two dataframes and show the head of the dataframe\n",
    "df = survey_data.merge(step_data, on = \"id\")\n",
    "df.head(5)"
   ]
  },
  {
   "cell_type": "markdown",
   "metadata": {},
   "source": [
    "Run describe en analyseer het op bijzondere waardes. Het maximale gewicht is bv 700.. Interessant om dit verder te analyseren in een boxplot bv."
   ]
  },
  {
   "cell_type": "code",
   "execution_count": 3,
   "metadata": {
    "scrolled": true
   },
   "outputs": [
    {
     "data": {
      "text/html": [
       "<div>\n",
       "<style scoped>\n",
       "    .dataframe tbody tr th:only-of-type {\n",
       "        vertical-align: middle;\n",
       "    }\n",
       "\n",
       "    .dataframe tbody tr th {\n",
       "        vertical-align: top;\n",
       "    }\n",
       "\n",
       "    .dataframe thead th {\n",
       "        text-align: right;\n",
       "    }\n",
       "</style>\n",
       "<table border=\"1\" class=\"dataframe\">\n",
       "  <thead>\n",
       "    <tr style=\"text-align: right;\">\n",
       "      <th></th>\n",
       "      <th>id</th>\n",
       "      <th>hh_size</th>\n",
       "      <th>education</th>\n",
       "      <th>height</th>\n",
       "      <th>weight</th>\n",
       "      <th>20-6-2013</th>\n",
       "      <th>21-6-2013</th>\n",
       "      <th>22-6-2013</th>\n",
       "      <th>23-6-2013</th>\n",
       "      <th>24-6-2013</th>\n",
       "      <th>...</th>\n",
       "      <th>4-5-2014</th>\n",
       "      <th>5-5-2014</th>\n",
       "      <th>6-5-2014</th>\n",
       "      <th>7-5-2014</th>\n",
       "      <th>8-5-2014</th>\n",
       "      <th>9-5-2014</th>\n",
       "      <th>10-5-2014</th>\n",
       "      <th>11-5-2014</th>\n",
       "      <th>12-5-2014</th>\n",
       "      <th>13-5-2014</th>\n",
       "    </tr>\n",
       "  </thead>\n",
       "  <tbody>\n",
       "    <tr>\n",
       "      <th>count</th>\n",
       "      <td>929.000000</td>\n",
       "      <td>929.000000</td>\n",
       "      <td>929.000000</td>\n",
       "      <td>928.000000</td>\n",
       "      <td>927.000000</td>\n",
       "      <td>24.000000</td>\n",
       "      <td>243.000000</td>\n",
       "      <td>278.000000</td>\n",
       "      <td>296.000000</td>\n",
       "      <td>354.000000</td>\n",
       "      <td>...</td>\n",
       "      <td>83.000000</td>\n",
       "      <td>78.000000</td>\n",
       "      <td>56.000000</td>\n",
       "      <td>56.000000</td>\n",
       "      <td>49.000000</td>\n",
       "      <td>71.000000</td>\n",
       "      <td>86.000000</td>\n",
       "      <td>81.000000</td>\n",
       "      <td>66.000000</td>\n",
       "      <td>0.0</td>\n",
       "    </tr>\n",
       "    <tr>\n",
       "      <th>mean</th>\n",
       "      <td>465.000000</td>\n",
       "      <td>2.342304</td>\n",
       "      <td>2.530678</td>\n",
       "      <td>171.668103</td>\n",
       "      <td>72.833873</td>\n",
       "      <td>3642.416667</td>\n",
       "      <td>9034.724280</td>\n",
       "      <td>10889.636691</td>\n",
       "      <td>7402.847973</td>\n",
       "      <td>8110.370056</td>\n",
       "      <td>...</td>\n",
       "      <td>8466.686747</td>\n",
       "      <td>6897.923077</td>\n",
       "      <td>8434.303571</td>\n",
       "      <td>9870.107143</td>\n",
       "      <td>7209.693878</td>\n",
       "      <td>9570.690141</td>\n",
       "      <td>7614.848837</td>\n",
       "      <td>6805.925926</td>\n",
       "      <td>7505.530303</td>\n",
       "      <td>NaN</td>\n",
       "    </tr>\n",
       "    <tr>\n",
       "      <th>std</th>\n",
       "      <td>268.323499</td>\n",
       "      <td>1.226129</td>\n",
       "      <td>1.274491</td>\n",
       "      <td>9.080235</td>\n",
       "      <td>25.902717</td>\n",
       "      <td>3951.910368</td>\n",
       "      <td>6412.774483</td>\n",
       "      <td>6283.204309</td>\n",
       "      <td>6733.291773</td>\n",
       "      <td>5495.536639</td>\n",
       "      <td>...</td>\n",
       "      <td>6923.674171</td>\n",
       "      <td>5915.429173</td>\n",
       "      <td>4960.932295</td>\n",
       "      <td>6812.625746</td>\n",
       "      <td>7539.387846</td>\n",
       "      <td>7264.297875</td>\n",
       "      <td>5521.711875</td>\n",
       "      <td>8458.979146</td>\n",
       "      <td>4706.609481</td>\n",
       "      <td>NaN</td>\n",
       "    </tr>\n",
       "    <tr>\n",
       "      <th>min</th>\n",
       "      <td>1.000000</td>\n",
       "      <td>1.000000</td>\n",
       "      <td>1.000000</td>\n",
       "      <td>145.000000</td>\n",
       "      <td>6.000000</td>\n",
       "      <td>164.000000</td>\n",
       "      <td>67.000000</td>\n",
       "      <td>25.000000</td>\n",
       "      <td>43.000000</td>\n",
       "      <td>11.000000</td>\n",
       "      <td>...</td>\n",
       "      <td>726.000000</td>\n",
       "      <td>12.000000</td>\n",
       "      <td>90.000000</td>\n",
       "      <td>88.000000</td>\n",
       "      <td>8.000000</td>\n",
       "      <td>664.000000</td>\n",
       "      <td>103.000000</td>\n",
       "      <td>12.000000</td>\n",
       "      <td>388.000000</td>\n",
       "      <td>NaN</td>\n",
       "    </tr>\n",
       "    <tr>\n",
       "      <th>25%</th>\n",
       "      <td>233.000000</td>\n",
       "      <td>1.000000</td>\n",
       "      <td>1.000000</td>\n",
       "      <td>165.000000</td>\n",
       "      <td>61.000000</td>\n",
       "      <td>299.500000</td>\n",
       "      <td>4395.500000</td>\n",
       "      <td>6524.250000</td>\n",
       "      <td>2726.750000</td>\n",
       "      <td>4428.250000</td>\n",
       "      <td>...</td>\n",
       "      <td>3538.000000</td>\n",
       "      <td>2082.000000</td>\n",
       "      <td>5525.750000</td>\n",
       "      <td>5629.500000</td>\n",
       "      <td>3393.000000</td>\n",
       "      <td>5149.000000</td>\n",
       "      <td>3950.000000</td>\n",
       "      <td>2510.000000</td>\n",
       "      <td>4932.000000</td>\n",
       "      <td>NaN</td>\n",
       "    </tr>\n",
       "    <tr>\n",
       "      <th>50%</th>\n",
       "      <td>465.000000</td>\n",
       "      <td>2.000000</td>\n",
       "      <td>2.000000</td>\n",
       "      <td>172.000000</td>\n",
       "      <td>71.000000</td>\n",
       "      <td>834.000000</td>\n",
       "      <td>8561.000000</td>\n",
       "      <td>9980.000000</td>\n",
       "      <td>5652.000000</td>\n",
       "      <td>7740.000000</td>\n",
       "      <td>...</td>\n",
       "      <td>5386.000000</td>\n",
       "      <td>6460.000000</td>\n",
       "      <td>7834.500000</td>\n",
       "      <td>9331.000000</td>\n",
       "      <td>5378.000000</td>\n",
       "      <td>7235.000000</td>\n",
       "      <td>6627.000000</td>\n",
       "      <td>3120.000000</td>\n",
       "      <td>6568.500000</td>\n",
       "      <td>NaN</td>\n",
       "    </tr>\n",
       "    <tr>\n",
       "      <th>75%</th>\n",
       "      <td>697.000000</td>\n",
       "      <td>3.000000</td>\n",
       "      <td>4.000000</td>\n",
       "      <td>179.000000</td>\n",
       "      <td>81.000000</td>\n",
       "      <td>6060.000000</td>\n",
       "      <td>12182.000000</td>\n",
       "      <td>14338.750000</td>\n",
       "      <td>10472.750000</td>\n",
       "      <td>10464.000000</td>\n",
       "      <td>...</td>\n",
       "      <td>11811.000000</td>\n",
       "      <td>9899.000000</td>\n",
       "      <td>11691.000000</td>\n",
       "      <td>14239.250000</td>\n",
       "      <td>8907.000000</td>\n",
       "      <td>12062.500000</td>\n",
       "      <td>10031.500000</td>\n",
       "      <td>6544.000000</td>\n",
       "      <td>9549.000000</td>\n",
       "      <td>NaN</td>\n",
       "    </tr>\n",
       "    <tr>\n",
       "      <th>max</th>\n",
       "      <td>929.000000</td>\n",
       "      <td>11.000000</td>\n",
       "      <td>5.000000</td>\n",
       "      <td>195.000000</td>\n",
       "      <td>700.000000</td>\n",
       "      <td>11157.000000</td>\n",
       "      <td>44944.000000</td>\n",
       "      <td>39165.000000</td>\n",
       "      <td>40392.000000</td>\n",
       "      <td>29862.000000</td>\n",
       "      <td>...</td>\n",
       "      <td>28703.000000</td>\n",
       "      <td>26654.000000</td>\n",
       "      <td>26660.000000</td>\n",
       "      <td>38400.000000</td>\n",
       "      <td>37530.000000</td>\n",
       "      <td>33379.000000</td>\n",
       "      <td>27605.000000</td>\n",
       "      <td>36031.000000</td>\n",
       "      <td>33660.000000</td>\n",
       "      <td>NaN</td>\n",
       "    </tr>\n",
       "  </tbody>\n",
       "</table>\n",
       "<p>8 rows × 333 columns</p>\n",
       "</div>"
      ],
      "text/plain": [
       "               id     hh_size   education      height      weight  \\\n",
       "count  929.000000  929.000000  929.000000  928.000000  927.000000   \n",
       "mean   465.000000    2.342304    2.530678  171.668103   72.833873   \n",
       "std    268.323499    1.226129    1.274491    9.080235   25.902717   \n",
       "min      1.000000    1.000000    1.000000  145.000000    6.000000   \n",
       "25%    233.000000    1.000000    1.000000  165.000000   61.000000   \n",
       "50%    465.000000    2.000000    2.000000  172.000000   71.000000   \n",
       "75%    697.000000    3.000000    4.000000  179.000000   81.000000   \n",
       "max    929.000000   11.000000    5.000000  195.000000  700.000000   \n",
       "\n",
       "          20-6-2013     21-6-2013     22-6-2013     23-6-2013     24-6-2013  \\\n",
       "count     24.000000    243.000000    278.000000    296.000000    354.000000   \n",
       "mean    3642.416667   9034.724280  10889.636691   7402.847973   8110.370056   \n",
       "std     3951.910368   6412.774483   6283.204309   6733.291773   5495.536639   \n",
       "min      164.000000     67.000000     25.000000     43.000000     11.000000   \n",
       "25%      299.500000   4395.500000   6524.250000   2726.750000   4428.250000   \n",
       "50%      834.000000   8561.000000   9980.000000   5652.000000   7740.000000   \n",
       "75%     6060.000000  12182.000000  14338.750000  10472.750000  10464.000000   \n",
       "max    11157.000000  44944.000000  39165.000000  40392.000000  29862.000000   \n",
       "\n",
       "       ...      4-5-2014      5-5-2014      6-5-2014      7-5-2014  \\\n",
       "count  ...     83.000000     78.000000     56.000000     56.000000   \n",
       "mean   ...   8466.686747   6897.923077   8434.303571   9870.107143   \n",
       "std    ...   6923.674171   5915.429173   4960.932295   6812.625746   \n",
       "min    ...    726.000000     12.000000     90.000000     88.000000   \n",
       "25%    ...   3538.000000   2082.000000   5525.750000   5629.500000   \n",
       "50%    ...   5386.000000   6460.000000   7834.500000   9331.000000   \n",
       "75%    ...  11811.000000   9899.000000  11691.000000  14239.250000   \n",
       "max    ...  28703.000000  26654.000000  26660.000000  38400.000000   \n",
       "\n",
       "           8-5-2014      9-5-2014     10-5-2014     11-5-2014     12-5-2014  \\\n",
       "count     49.000000     71.000000     86.000000     81.000000     66.000000   \n",
       "mean    7209.693878   9570.690141   7614.848837   6805.925926   7505.530303   \n",
       "std     7539.387846   7264.297875   5521.711875   8458.979146   4706.609481   \n",
       "min        8.000000    664.000000    103.000000     12.000000    388.000000   \n",
       "25%     3393.000000   5149.000000   3950.000000   2510.000000   4932.000000   \n",
       "50%     5378.000000   7235.000000   6627.000000   3120.000000   6568.500000   \n",
       "75%     8907.000000  12062.500000  10031.500000   6544.000000   9549.000000   \n",
       "max    37530.000000  33379.000000  27605.000000  36031.000000  33660.000000   \n",
       "\n",
       "       13-5-2014  \n",
       "count        0.0  \n",
       "mean         NaN  \n",
       "std          NaN  \n",
       "min          NaN  \n",
       "25%          NaN  \n",
       "50%          NaN  \n",
       "75%          NaN  \n",
       "max          NaN  \n",
       "\n",
       "[8 rows x 333 columns]"
      ]
     },
     "execution_count": 3,
     "metadata": {},
     "output_type": "execute_result"
    }
   ],
   "source": [
    "df.describe()"
   ]
  },
  {
   "cell_type": "markdown",
   "metadata": {},
   "source": [
    "Maak een boxplot van gewicht, en converteer dan de onmogelijke waarde naar een NaN."
   ]
  },
  {
   "cell_type": "code",
   "execution_count": 4,
   "metadata": {},
   "outputs": [
    {
     "data": {
      "image/png": "[encoded data removed]",
      "text/plain": [
       "<Figure size 432x288 with 1 Axes>"
      ]
     },
     "metadata": {
      "needs_background": "light"
     },
     "output_type": "display_data"
    }
   ],
   "source": [
    "sns.boxplot(x=\"weight\", data=df)\n",
    "plt.title(\"Weight\")\n",
    "plt.xlabel(\"Weight\")\n",
    "plt.ylabel(\"Count\")\n",
    "plt.xticks(rotation=45)\n",
    "plt.show()"
   ]
  },
  {
   "cell_type": "code",
   "execution_count": 5,
   "metadata": {},
   "outputs": [],
   "source": [
    "df['weight']=df['weight'].replace(700,np.nan)"
   ]
  },
  {
   "cell_type": "markdown",
   "metadata": {},
   "source": [
    "Check with info() which column you want to calculate the mean over. Use the attribute verbose to display all columns"
   ]
  },
  {
   "cell_type": "code",
   "execution_count": 6,
   "metadata": {},
   "outputs": [
    {
     "name": "stdout",
     "output_type": "stream",
     "text": [
      "<class 'pandas.core.frame.DataFrame'>\n",
      "Int64Index: 929 entries, 0 to 928\n",
      "Data columns (total 337 columns):\n",
      " #    Column       Dtype  \n",
      "---   ------       -----  \n",
      " 0    id           int64  \n",
      " 1    city         object \n",
      " 2    gender       object \n",
      " 3    age          object \n",
      " 4    hh_size      int64  \n",
      " 5    education    int64  \n",
      " 6    education_1  object \n",
      " 7    height       float64\n",
      " 8    weight       float64\n",
      " 9    20-6-2013    float64\n",
      " 10   21-6-2013    float64\n",
      " 11   22-6-2013    float64\n",
      " 12   23-6-2013    float64\n",
      " 13   24-6-2013    float64\n",
      " 14   25-6-2013    float64\n",
      " 15   26-6-2013    float64\n",
      " 16   27-6-2013    float64\n",
      " 17   28-6-2013    float64\n",
      " 18   29-6-2013    float64\n",
      " 19   30-6-2013    float64\n",
      " 20   1-7-2013     float64\n",
      " 21   2-7-2013     float64\n",
      " 22   3-7-2013     float64\n",
      " 23   4-7-2013     float64\n",
      " 24   5-7-2013     float64\n",
      " 25   6-7-2013     float64\n",
      " 26   7-7-2013     float64\n",
      " 27   8-7-2013     float64\n",
      " 28   9-7-2013     float64\n",
      " 29   10-7-2013    float64\n",
      " 30   11-7-2013    float64\n",
      " 31   12-7-2013    float64\n",
      " 32   13-7-2013    float64\n",
      " 33   14-7-2013    float64\n",
      " 34   15-7-2013    float64\n",
      " 35   16-7-2013    float64\n",
      " 36   17-7-2013    float64\n",
      " 37   18-7-2013    float64\n",
      " 38   19-7-2013    float64\n",
      " 39   20-7-2013    float64\n",
      " 40   21-7-2013    float64\n",
      " 41   22-7-2013    float64\n",
      " 42   23-7-2013    float64\n",
      " 43   24-7-2013    float64\n",
      " 44   25-7-2013    float64\n",
      " 45   26-7-2013    float64\n",
      " 46   27-7-2013    float64\n",
      " 47   28-7-2013    float64\n",
      " 48   29-7-2013    float64\n",
      " 49   30-7-2013    float64\n",
      " 50   31-7-2013    float64\n",
      " 51   1-8-2013     float64\n",
      " 52   2-8-2013     float64\n",
      " 53   3-8-2013     float64\n",
      " 54   4-8-2013     float64\n",
      " 55   5-8-2013     float64\n",
      " 56   6-8-2013     float64\n",
      " 57   7-8-2013     float64\n",
      " 58   8-8-2013     float64\n",
      " 59   9-8-2013     float64\n",
      " 60   10-8-2013    float64\n",
      " 61   11-8-2013    float64\n",
      " 62   12-8-2013    float64\n",
      " 63   13-8-2013    float64\n",
      " 64   14-8-2013    float64\n",
      " 65   15-8-2013    float64\n",
      " 66   16-8-2013    float64\n",
      " 67   17-8-2013    float64\n",
      " 68   18-8-2013    float64\n",
      " 69   19-8-2013    float64\n",
      " 70   20-8-2013    float64\n",
      " 71   21-8-2013    float64\n",
      " 72   22-8-2013    float64\n",
      " 73   23-8-2013    float64\n",
      " 74   24-8-2013    float64\n",
      " 75   25-8-2013    float64\n",
      " 76   26-8-2013    float64\n",
      " 77   27-8-2013    float64\n",
      " 78   28-8-2013    float64\n",
      " 79   29-8-2013    float64\n",
      " 80   30-8-2013    float64\n",
      " 81   31-8-2013    float64\n",
      " 82   1-9-2013     float64\n",
      " 83   2-9-2013     float64\n",
      " 84   3-9-2013     float64\n",
      " 85   4-9-2013     float64\n",
      " 86   5-9-2013     float64\n",
      " 87   6-9-2013     float64\n",
      " 88   7-9-2013     float64\n",
      " 89   8-9-2013     float64\n",
      " 90   9-9-2013     float64\n",
      " 91   10-9-2013    float64\n",
      " 92   11-9-2013    float64\n",
      " 93   12-9-2013    float64\n",
      " 94   13-9-2013    float64\n",
      " 95   14-9-2013    float64\n",
      " 96   15-9-2013    float64\n",
      " 97   16-9-2013    float64\n",
      " 98   17-9-2013    float64\n",
      " 99   18-9-2013    float64\n",
      " 100  19-9-2013    float64\n",
      " 101  20-9-2013    float64\n",
      " 102  21-9-2013    float64\n",
      " 103  22-9-2013    float64\n",
      " 104  23-9-2013    float64\n",
      " 105  24-9-2013    float64\n",
      " 106  25-9-2013    float64\n",
      " 107  26-9-2013    float64\n",
      " 108  27-9-2013    float64\n",
      " 109  28-9-2013    float64\n",
      " 110  29-9-2013    float64\n",
      " 111  30-9-2013    float64\n",
      " 112  1-10-2013    float64\n",
      " 113  2-10-2013    float64\n",
      " 114  3-10-2013    float64\n",
      " 115  4-10-2013    float64\n",
      " 116  5-10-2013    float64\n",
      " 117  6-10-2013    float64\n",
      " 118  7-10-2013    float64\n",
      " 119  8-10-2013    float64\n",
      " 120  9-10-2013    float64\n",
      " 121  10-10-2013   float64\n",
      " 122  11-10-2013   float64\n",
      " 123  12-10-2013   float64\n",
      " 124  13-10-2013   float64\n",
      " 125  14-10-2013   float64\n",
      " 126  15-10-2013   float64\n",
      " 127  16-10-2013   float64\n",
      " 128  17-10-2013   float64\n",
      " 129  18-10-2013   float64\n",
      " 130  19-10-2013   float64\n",
      " 131  20-10-2013   float64\n",
      " 132  21-10-2013   float64\n",
      " 133  22-10-2013   float64\n",
      " 134  23-10-2013   float64\n",
      " 135  24-10-2013   float64\n",
      " 136  25-10-2013   float64\n",
      " 137  26-10-2013   float64\n",
      " 138  27-10-2013   float64\n",
      " 139  28-10-2013   float64\n",
      " 140  29-10-2013   float64\n",
      " 141  30-10-2013   float64\n",
      " 142  31-10-2013   float64\n",
      " 143  1-11-2013    float64\n",
      " 144  2-11-2013    float64\n",
      " 145  3-11-2013    float64\n",
      " 146  4-11-2013    float64\n",
      " 147  5-11-2013    float64\n",
      " 148  6-11-2013    float64\n",
      " 149  7-11-2013    float64\n",
      " 150  8-11-2013    float64\n",
      " 151  9-11-2013    float64\n",
      " 152  10-11-2013   float64\n",
      " 153  11-11-2013   float64\n",
      " 154  12-11-2013   float64\n",
      " 155  13-11-2013   float64\n",
      " 156  14-11-2013   float64\n",
      " 157  15-11-2013   float64\n",
      " 158  16-11-2013   float64\n",
      " 159  17-11-2013   float64\n",
      " 160  18-11-2013   float64\n",
      " 161  19-11-2013   float64\n",
      " 162  20-11-2013   float64\n",
      " 163  21-11-2013   float64\n",
      " 164  22-11-2013   float64\n",
      " 165  23-11-2013   float64\n",
      " 166  24-11-2013   float64\n",
      " 167  25-11-2013   float64\n",
      " 168  26-11-2013   float64\n",
      " 169  27-11-2013   float64\n",
      " 170  28-11-2013   float64\n",
      " 171  29-11-2013   float64\n",
      " 172  30-11-2013   float64\n",
      " 173  1-12-2013    float64\n",
      " 174  2-12-2013    float64\n",
      " 175  3-12-2013    float64\n",
      " 176  4-12-2013    float64\n",
      " 177  5-12-2013    float64\n",
      " 178  6-12-2013    float64\n",
      " 179  7-12-2013    float64\n",
      " 180  8-12-2013    float64\n",
      " 181  9-12-2013    float64\n",
      " 182  10-12-2013   float64\n",
      " 183  11-12-2013   float64\n",
      " 184  12-12-2013   float64\n",
      " 185  13-12-2013   float64\n",
      " 186  14-12-2013   float64\n",
      " 187  15-12-2013   float64\n",
      " 188  16-12-2013   float64\n",
      " 189  17-12-2013   float64\n",
      " 190  18-12-2013   float64\n",
      " 191  19-12-2013   float64\n",
      " 192  20-12-2013   float64\n",
      " 193  21-12-2013   float64\n",
      " 194  22-12-2013   float64\n",
      " 195  23-12-2013   float64\n",
      " 196  24-12-2013   float64\n",
      " 197  25-12-2013   float64\n",
      " 198  26-12-2013   float64\n",
      " 199  27-12-2013   float64\n",
      " 200  28-12-2013   float64\n",
      " 201  29-12-2013   float64\n",
      " 202  30-12-2013   float64\n",
      " 203  31-12-2013   float64\n",
      " 204  1-1-2014     float64\n",
      " 205  2-1-2014     float64\n",
      " 206  3-1-2014     float64\n",
      " 207  4-1-2014     float64\n",
      " 208  5-1-2014     float64\n",
      " 209  6-1-2014     float64\n",
      " 210  7-1-2014     float64\n",
      " 211  8-1-2014     float64\n",
      " 212  9-1-2014     float64\n",
      " 213  10-1-2014    float64\n",
      " 214  11-1-2014    float64\n",
      " 215  12-1-2014    float64\n",
      " 216  13-1-2014    float64\n",
      " 217  14-1-2014    float64\n",
      " 218  15-1-2014    float64\n",
      " 219  16-1-2014    float64\n",
      " 220  17-1-2014    float64\n",
      " 221  18-1-2014    float64\n",
      " 222  19-1-2014    float64\n",
      " 223  20-1-2014    float64\n",
      " 224  21-1-2014    float64\n",
      " 225  22-1-2014    float64\n",
      " 226  23-1-2014    float64\n",
      " 227  24-1-2014    float64\n",
      " 228  25-1-2014    float64\n",
      " 229  26-1-2014    float64\n",
      " 230  27-1-2014    float64\n",
      " 231  28-1-2014    float64\n",
      " 232  29-1-2014    float64\n",
      " 233  30-1-2014    float64\n",
      " 234  31-1-2014    float64\n",
      " 235  1-2-2014     float64\n",
      " 236  2-2-2014     float64\n",
      " 237  3-2-2014     float64\n",
      " 238  4-2-2014     float64\n",
      " 239  5-2-2014     float64\n",
      " 240  6-2-2014     float64\n",
      " 241  7-2-2014     float64\n",
      " 242  8-2-2014     float64\n",
      " 243  9-2-2014     float64\n",
      " 244  10-2-2014    float64\n",
      " 245  11-2-2014    float64\n",
      " 246  12-2-2014    float64\n",
      " 247  13-2-2014    float64\n",
      " 248  14-2-2014    float64\n",
      " 249  15-2-2014    float64\n",
      " 250  16-2-2014    float64\n",
      " 251  17-2-2014    float64\n",
      " 252  18-2-2014    float64\n",
      " 253  19-2-2014    float64\n",
      " 254  20-2-2014    float64\n",
      " 255  21-2-2014    float64\n",
      " 256  22-2-2014    float64\n",
      " 257  23-2-2014    float64\n",
      " 258  24-2-2014    float64\n",
      " 259  25-2-2014    float64\n",
      " 260  26-2-2014    float64\n",
      " 261  27-2-2014    float64\n",
      " 262  28-2-2014    float64\n",
      " 263  1-3-2014     float64\n",
      " 264  2-3-2014     float64\n",
      " 265  3-3-2014     float64\n",
      " 266  4-3-2014     float64\n",
      " 267  5-3-2014     float64\n",
      " 268  6-3-2014     float64\n",
      " 269  7-3-2014     float64\n",
      " 270  8-3-2014     float64\n",
      " 271  9-3-2014     float64\n",
      " 272  10-3-2014    float64\n",
      " 273  11-3-2014    float64\n",
      " 274  12-3-2014    float64\n",
      " 275  13-3-2014    float64\n",
      " 276  14-3-2014    float64\n",
      " 277  15-3-2014    float64\n",
      " 278  16-3-2014    float64\n",
      " 279  17-3-2014    float64\n",
      " 280  18-3-2014    float64\n",
      " 281  19-3-2014    float64\n",
      " 282  20-3-2014    float64\n",
      " 283  21-3-2014    float64\n",
      " 284  22-3-2014    float64\n",
      " 285  23-3-2014    float64\n",
      " 286  24-3-2014    float64\n",
      " 287  25-3-2014    float64\n",
      " 288  26-3-2014    float64\n",
      " 289  27-3-2014    float64\n",
      " 290  28-3-2014    float64\n",
      " 291  29-3-2014    float64\n",
      " 292  30-3-2014    float64\n",
      " 293  31-3-2014    float64\n",
      " 294  1-4-2014     float64\n",
      " 295  2-4-2014     float64\n",
      " 296  3-4-2014     float64\n",
      " 297  4-4-2014     float64\n",
      " 298  5-4-2014     float64\n",
      " 299  6-4-2014     float64\n",
      " 300  7-4-2014     float64\n",
      " 301  8-4-2014     float64\n",
      " 302  9-4-2014     float64\n",
      " 303  10-4-2014    float64\n",
      " 304  11-4-2014    float64\n",
      " 305  12-4-2014    float64\n",
      " 306  13-4-2014    float64\n",
      " 307  14-4-2014    float64\n",
      " 308  15-4-2014    float64\n",
      " 309  16-4-2014    float64\n",
      " 310  17-4-2014    float64\n",
      " 311  18-4-2014    float64\n",
      " 312  19-4-2014    float64\n",
      " 313  20-4-2014    float64\n",
      " 314  21-4-2014    float64\n",
      " 315  22-4-2014    float64\n",
      " 316  23-4-2014    float64\n",
      " 317  24-4-2014    float64\n",
      " 318  25-4-2014    float64\n",
      " 319  26-4-2014    float64\n",
      " 320  27-4-2014    float64\n",
      " 321  28-4-2014    float64\n",
      " 322  29-4-2014    float64\n",
      " 323  30-4-2014    float64\n",
      " 324  1-5-2014     float64\n",
      " 325  2-5-2014     float64\n",
      " 326  3-5-2014     float64\n",
      " 327  4-5-2014     float64\n",
      " 328  5-5-2014     float64\n",
      " 329  6-5-2014     float64\n",
      " 330  7-5-2014     float64\n",
      " 331  8-5-2014     float64\n",
      " 332  9-5-2014     float64\n",
      " 333  10-5-2014    float64\n",
      " 334  11-5-2014    float64\n",
      " 335  12-5-2014    float64\n",
      " 336  13-5-2014    float64\n",
      "dtypes: float64(330), int64(3), object(4)\n",
      "memory usage: 2.4+ MB\n"
     ]
    }
   ],
   "source": [
    "df.info(verbose=True)"
   ]
  },
  {
   "cell_type": "markdown",
   "metadata": {},
   "source": [
    "Calculate the mean over all columns for each row. Make sure to add axis=1"
   ]
  },
  {
   "cell_type": "code",
   "execution_count": 7,
   "metadata": {},
   "outputs": [
    {
     "data": {
      "text/html": [
       "<div>\n",
       "<style scoped>\n",
       "    .dataframe tbody tr th:only-of-type {\n",
       "        vertical-align: middle;\n",
       "    }\n",
       "\n",
       "    .dataframe tbody tr th {\n",
       "        vertical-align: top;\n",
       "    }\n",
       "\n",
       "    .dataframe thead th {\n",
       "        text-align: right;\n",
       "    }\n",
       "</style>\n",
       "<table border=\"1\" class=\"dataframe\">\n",
       "  <thead>\n",
       "    <tr style=\"text-align: right;\">\n",
       "      <th></th>\n",
       "      <th>id</th>\n",
       "      <th>city</th>\n",
       "      <th>gender</th>\n",
       "      <th>age</th>\n",
       "      <th>hh_size</th>\n",
       "      <th>education</th>\n",
       "      <th>education_1</th>\n",
       "      <th>height</th>\n",
       "      <th>weight</th>\n",
       "      <th>20-6-2013</th>\n",
       "      <th>...</th>\n",
       "      <th>5-5-2014</th>\n",
       "      <th>6-5-2014</th>\n",
       "      <th>7-5-2014</th>\n",
       "      <th>8-5-2014</th>\n",
       "      <th>9-5-2014</th>\n",
       "      <th>10-5-2014</th>\n",
       "      <th>11-5-2014</th>\n",
       "      <th>12-5-2014</th>\n",
       "      <th>13-5-2014</th>\n",
       "      <th>steps_mean</th>\n",
       "    </tr>\n",
       "  </thead>\n",
       "  <tbody>\n",
       "    <tr>\n",
       "      <th>0</th>\n",
       "      <td>1</td>\n",
       "      <td>Bordeaux</td>\n",
       "      <td>Male</td>\n",
       "      <td>25-34</td>\n",
       "      <td>4</td>\n",
       "      <td>4</td>\n",
       "      <td>Master or doctorate</td>\n",
       "      <td>178.0</td>\n",
       "      <td>98.0</td>\n",
       "      <td>NaN</td>\n",
       "      <td>...</td>\n",
       "      <td>NaN</td>\n",
       "      <td>NaN</td>\n",
       "      <td>NaN</td>\n",
       "      <td>NaN</td>\n",
       "      <td>NaN</td>\n",
       "      <td>NaN</td>\n",
       "      <td>NaN</td>\n",
       "      <td>NaN</td>\n",
       "      <td>NaN</td>\n",
       "      <td>10205.521212</td>\n",
       "    </tr>\n",
       "    <tr>\n",
       "      <th>1</th>\n",
       "      <td>2</td>\n",
       "      <td>Lille</td>\n",
       "      <td>Male</td>\n",
       "      <td>35-44</td>\n",
       "      <td>1</td>\n",
       "      <td>3</td>\n",
       "      <td>Bachelor</td>\n",
       "      <td>180.0</td>\n",
       "      <td>77.0</td>\n",
       "      <td>NaN</td>\n",
       "      <td>...</td>\n",
       "      <td>NaN</td>\n",
       "      <td>NaN</td>\n",
       "      <td>NaN</td>\n",
       "      <td>NaN</td>\n",
       "      <td>NaN</td>\n",
       "      <td>NaN</td>\n",
       "      <td>NaN</td>\n",
       "      <td>NaN</td>\n",
       "      <td>NaN</td>\n",
       "      <td>5687.423313</td>\n",
       "    </tr>\n",
       "    <tr>\n",
       "      <th>2</th>\n",
       "      <td>3</td>\n",
       "      <td>Montpellier</td>\n",
       "      <td>Male</td>\n",
       "      <td>25-34</td>\n",
       "      <td>2</td>\n",
       "      <td>2</td>\n",
       "      <td>Master or doctorate</td>\n",
       "      <td>180.0</td>\n",
       "      <td>83.0</td>\n",
       "      <td>NaN</td>\n",
       "      <td>...</td>\n",
       "      <td>4364.0</td>\n",
       "      <td>NaN</td>\n",
       "      <td>NaN</td>\n",
       "      <td>NaN</td>\n",
       "      <td>6227.0</td>\n",
       "      <td>4567.0</td>\n",
       "      <td>2567.0</td>\n",
       "      <td>1129.0</td>\n",
       "      <td>NaN</td>\n",
       "      <td>8301.729730</td>\n",
       "    </tr>\n",
       "    <tr>\n",
       "      <th>3</th>\n",
       "      <td>4</td>\n",
       "      <td>Lyon</td>\n",
       "      <td>Male</td>\n",
       "      <td>&lt;25</td>\n",
       "      <td>1</td>\n",
       "      <td>1</td>\n",
       "      <td>Bachelor</td>\n",
       "      <td>178.0</td>\n",
       "      <td>80.0</td>\n",
       "      <td>NaN</td>\n",
       "      <td>...</td>\n",
       "      <td>NaN</td>\n",
       "      <td>NaN</td>\n",
       "      <td>NaN</td>\n",
       "      <td>NaN</td>\n",
       "      <td>NaN</td>\n",
       "      <td>NaN</td>\n",
       "      <td>NaN</td>\n",
       "      <td>NaN</td>\n",
       "      <td>NaN</td>\n",
       "      <td>3633.200000</td>\n",
       "    </tr>\n",
       "    <tr>\n",
       "      <th>4</th>\n",
       "      <td>5</td>\n",
       "      <td>Montpellier</td>\n",
       "      <td>Female</td>\n",
       "      <td>25-34</td>\n",
       "      <td>3</td>\n",
       "      <td>4</td>\n",
       "      <td>Bachelor</td>\n",
       "      <td>167.0</td>\n",
       "      <td>61.0</td>\n",
       "      <td>NaN</td>\n",
       "      <td>...</td>\n",
       "      <td>NaN</td>\n",
       "      <td>NaN</td>\n",
       "      <td>NaN</td>\n",
       "      <td>NaN</td>\n",
       "      <td>NaN</td>\n",
       "      <td>NaN</td>\n",
       "      <td>NaN</td>\n",
       "      <td>NaN</td>\n",
       "      <td>NaN</td>\n",
       "      <td>5312.129630</td>\n",
       "    </tr>\n",
       "  </tbody>\n",
       "</table>\n",
       "<p>5 rows × 338 columns</p>\n",
       "</div>"
      ],
      "text/plain": [
       "   id         city  gender    age  hh_size  education          education_1  \\\n",
       "0   1     Bordeaux    Male  25-34        4          4  Master or doctorate   \n",
       "1   2        Lille    Male  35-44        1          3             Bachelor   \n",
       "2   3  Montpellier    Male  25-34        2          2  Master or doctorate   \n",
       "3   4         Lyon    Male    <25        1          1             Bachelor   \n",
       "4   5  Montpellier  Female  25-34        3          4             Bachelor   \n",
       "\n",
       "   height  weight  20-6-2013  ...  5-5-2014  6-5-2014  7-5-2014  8-5-2014  \\\n",
       "0   178.0    98.0        NaN  ...       NaN       NaN       NaN       NaN   \n",
       "1   180.0    77.0        NaN  ...       NaN       NaN       NaN       NaN   \n",
       "2   180.0    83.0        NaN  ...    4364.0       NaN       NaN       NaN   \n",
       "3   178.0    80.0        NaN  ...       NaN       NaN       NaN       NaN   \n",
       "4   167.0    61.0        NaN  ...       NaN       NaN       NaN       NaN   \n",
       "\n",
       "   9-5-2014  10-5-2014  11-5-2014  12-5-2014  13-5-2014    steps_mean  \n",
       "0       NaN        NaN        NaN        NaN        NaN  10205.521212  \n",
       "1       NaN        NaN        NaN        NaN        NaN   5687.423313  \n",
       "2    6227.0     4567.0     2567.0     1129.0        NaN   8301.729730  \n",
       "3       NaN        NaN        NaN        NaN        NaN   3633.200000  \n",
       "4       NaN        NaN        NaN        NaN        NaN   5312.129630  \n",
       "\n",
       "[5 rows x 338 columns]"
      ]
     },
     "execution_count": 7,
     "metadata": {},
     "output_type": "execute_result"
    }
   ],
   "source": [
    "df['steps_mean']=df.iloc[:,9:336].mean(axis=1)\n",
    "df.head()"
   ]
  },
  {
   "cell_type": "markdown",
   "metadata": {},
   "source": [
    "Create a histogram and boxplot of steps_mean, and calculate mean, median and std dev."
   ]
  },
  {
   "cell_type": "code",
   "execution_count": null,
   "metadata": {},
   "outputs": [],
   "source": []
  },
  {
   "cell_type": "code",
   "execution_count": 8,
   "metadata": {},
   "outputs": [
    {
     "data": {
      "image/png": "[encoded data removed]",
      "text/plain": [
       "<Figure size 360x360 with 1 Axes>"
      ]
     },
     "metadata": {
      "needs_background": "light"
     },
     "output_type": "display_data"
    }
   ],
   "source": [
    "sns.displot(x=\"steps_mean\", kde=False, data=df) #kde=False means we don't get an overlying density plot\n",
    "plt.title(\"Mean steps per day\")\n",
    "plt.xlabel(\"Mean steps\")\n",
    "plt.ylabel(\"Count\")\n",
    "plt.xticks(rotation=45)\n",
    "plt.show()"
   ]
  },
  {
   "cell_type": "code",
   "execution_count": 9,
   "metadata": {},
   "outputs": [
    {
     "data": {
      "image/png": "[encoded data removed]",
      "text/plain": [
       "<Figure size 432x288 with 1 Axes>"
      ]
     },
     "metadata": {
      "needs_background": "light"
     },
     "output_type": "display_data"
    }
   ],
   "source": [
    "sns.boxplot(x=\"steps_mean\", data=df)\n",
    "plt.title(\"Mean steps per day\")\n",
    "plt.xlabel(\"Mean steps\")\n",
    "plt.ylabel(\"Count\")\n",
    "plt.xticks(rotation=45)\n",
    "plt.show()"
   ]
  },
  {
   "cell_type": "code",
   "execution_count": 10,
   "metadata": {
    "scrolled": true
   },
   "outputs": [
    {
     "name": "stdout",
     "output_type": "stream",
     "text": [
      "Median = 6245.006060606061\n",
      "Mean = 7036.627484984338\n",
      "St Dev. = 7396.87900787018\n"
     ]
    }
   ],
   "source": [
    "print('Median = '+str(df['steps_mean'].median()))\n",
    "print('Mean = '+str(df['steps_mean'].mean()))\n",
    "print('St Dev. = '+str(df['steps_mean'].std()))"
   ]
  },
  {
   "cell_type": "markdown",
   "metadata": {},
   "source": [
    "you have clearly some outliers and a right skew, more than 100.000 steps would hypothetically be possible, but you can also see that these outlier influence the mean and standard deviation significantly, so I choose to filter out steps above 100.000."
   ]
  },
  {
   "cell_type": "code",
   "execution_count": 11,
   "metadata": {},
   "outputs": [],
   "source": [
    "df=df[df['steps_mean']<100000]"
   ]
  },
  {
   "cell_type": "code",
   "execution_count": 12,
   "metadata": {
    "scrolled": true
   },
   "outputs": [
    {
     "name": "stdout",
     "output_type": "stream",
     "text": [
      "Median = 6244.931601731601\n",
      "Mean = 6825.928380530858\n",
      "St Dev. = 3696.491961554726\n"
     ]
    }
   ],
   "source": [
    "print('Median = '+str(df['steps_mean'].median()))\n",
    "print('Mean = '+str(df['steps_mean'].mean()))\n",
    "print('St Dev. = '+str(df['steps_mean'].std()))"
   ]
  },
  {
   "cell_type": "code",
   "execution_count": 13,
   "metadata": {},
   "outputs": [
    {
     "data": {
      "image/png": "[encoded data removed]",
      "text/plain": [
       "<Figure size 360x360 with 1 Axes>"
      ]
     },
     "metadata": {
      "needs_background": "light"
     },
     "output_type": "display_data"
    }
   ],
   "source": [
    "sns.displot(x=\"steps_mean\", kde=False, data=df) #kde=False means we don't get an overlying density plot\n",
    "plt.title(\"Mean steps per day\")\n",
    "plt.xlabel(\"Mean steps\")\n",
    "plt.ylabel(\"Count\")\n",
    "plt.xticks(rotation=45)\n",
    "plt.show()"
   ]
  },
  {
   "cell_type": "markdown",
   "metadata": {},
   "source": [
    "Analyse if we see differences in steps for different age groups or educational background"
   ]
  },
  {
   "cell_type": "code",
   "execution_count": 14,
   "metadata": {},
   "outputs": [
    {
     "data": {
      "image/png": "[encoded data removed]",
      "text/plain": [
       "<Figure size 1080x576 with 1 Axes>"
      ]
     },
     "metadata": {
      "needs_background": "light"
     },
     "output_type": "display_data"
    }
   ],
   "source": [
    "plt.figure(figsize = (15,8))\n",
    "plt.xticks(rotation=45)\n",
    "sns.violinplot(x='age',y='steps_mean',data=df)\n",
    "plt.title('Mean steps for each age group')\n",
    "plt.xlabel('Age group')\n",
    "plt.ylabel('Mean steps')\n",
    "plt.show()"
   ]
  },
  {
   "cell_type": "markdown",
   "metadata": {},
   "source": [
    "It's clear that young people below 25 walk less and older people who can still walk (between 55 and 64) most, the differences within this group are however also bigger."
   ]
  },
  {
   "cell_type": "code",
   "execution_count": 15,
   "metadata": {},
   "outputs": [
    {
     "data": {
      "image/png": "[encoded data removed]",
      "text/plain": [
       "<Figure size 1080x576 with 1 Axes>"
      ]
     },
     "metadata": {
      "needs_background": "light"
     },
     "output_type": "display_data"
    }
   ],
   "source": [
    "plt.figure(figsize = (15,8))\n",
    "plt.xticks(rotation=45)\n",
    "sns.boxplot(x='education_1',y='steps_mean',data=df)\n",
    "sns.swarmplot(x='education_1',y='steps_mean', size=3, data=df)\n",
    "plt.title('Mean steps for each age group')\n",
    "plt.xlabel('Age group')\n",
    "plt.ylabel('Mean steps')\n",
    "plt.show()"
   ]
  },
  {
   "cell_type": "markdown",
   "metadata": {},
   "source": [
    "Educational level does not seem to influence the nr of steps that much. This graph however shows that most people have a bachelor or higher"
   ]
  },
  {
   "cell_type": "markdown",
   "metadata": {},
   "source": [
    "df['education_1'].value_counts()"
   ]
  },
  {
   "cell_type": "markdown",
   "metadata": {},
   "source": [
    "Week 2. Het maken van een scatterplotmatrix en het maken van correlatie matrix"
   ]
  },
  {
   "cell_type": "markdown",
   "metadata": {},
   "source": [
    "Scatterplot matrix van numerieke variabelen. (Gewicht en lengte)"
   ]
  },
  {
   "cell_type": "raw",
   "metadata": {},
   "source": [
    "df_2 = df[['height', 'weight']] #subset maken\n",
    "sns.pairplot(df_2)\n",
    "plt.show()"
   ]
  },
  {
   "cell_type": "markdown",
   "metadata": {},
   "source": [
    "Correlatie matrix maken."
   ]
  },
  {
   "cell_type": "code",
   "execution_count": 16,
   "metadata": {},
   "outputs": [
    {
     "ename": "NameError",
     "evalue": "name 'df_2' is not defined",
     "output_type": "error",
     "traceback": [
      "\u001b[1;31m---------------------------------------------------------------------------\u001b[0m",
      "\u001b[1;31mNameError\u001b[0m                                 Traceback (most recent call last)",
      "\u001b[1;32m<ipython-input-16-c8ee15fccea2>\u001b[0m in \u001b[0;36m<module>\u001b[1;34m\u001b[0m\n\u001b[1;32m----> 1\u001b[1;33m \u001b[0mcorrMatrix\u001b[0m \u001b[1;33m=\u001b[0m \u001b[0mdf_2\u001b[0m\u001b[1;33m.\u001b[0m\u001b[0mcorr\u001b[0m\u001b[1;33m(\u001b[0m\u001b[1;33m)\u001b[0m\u001b[1;33m\u001b[0m\u001b[1;33m\u001b[0m\u001b[0m\n\u001b[0m\u001b[0;32m      2\u001b[0m \u001b[0msns\u001b[0m\u001b[1;33m.\u001b[0m\u001b[0mheatmap\u001b[0m\u001b[1;33m(\u001b[0m\u001b[0mcorrMatrix\u001b[0m\u001b[1;33m,\u001b[0m \u001b[0mannot\u001b[0m\u001b[1;33m=\u001b[0m\u001b[1;32mTrue\u001b[0m\u001b[1;33m)\u001b[0m\u001b[1;33m\u001b[0m\u001b[1;33m\u001b[0m\u001b[0m\n\u001b[0;32m      3\u001b[0m \u001b[0mplt\u001b[0m\u001b[1;33m.\u001b[0m\u001b[0mshow\u001b[0m\u001b[1;33m(\u001b[0m\u001b[1;33m)\u001b[0m\u001b[1;33m\u001b[0m\u001b[1;33m\u001b[0m\u001b[0m\n\u001b[0;32m      4\u001b[0m \u001b[1;33m\u001b[0m\u001b[0m\n",
      "\u001b[1;31mNameError\u001b[0m: name 'df_2' is not defined"
     ]
    }
   ],
   "source": [
    "corrMatrix = df_2.corr()\n",
    "sns.heatmap(corrMatrix, annot=True)\n",
    "plt.show()\n",
    "\n"
   ]
  },
  {
   "cell_type": "code",
   "execution_count": null,
   "metadata": {},
   "outputs": [],
   "source": [
    "corrMatrix.describe() #Informatie ophalen."
   ]
  },
  {
   "cell_type": "markdown",
   "metadata": {},
   "source": [
    "Week 3. Lineaire regressie. Een voorspelmodel maken. \n",
    "Als je lineaire regressie onderzoekt dan bestudeer je of er een (lineair) verband is tussen twee of meer variabelen. Uiteindelijk is het doel om met het gevonden verband waardes in de toekomst te kunnen voorspellen.\n"
   ]
  },
  {
   "cell_type": "code",
   "execution_count": 30,
   "metadata": {},
   "outputs": [],
   "source": [
    "from sklearn.linear_model import LinearRegression #remember, this is linear regression model from sk-learn\n",
    "from sklearn.model_selection import train_test_split #this is the function we need to split the data\n",
    "from sklearn.metrics import mean_squared_error\n",
    "from sklearn.metrics import r2_score\n",
    "import math"
   ]
  },
  {
   "cell_type": "markdown",
   "metadata": {},
   "source": [
    "Dummy variabelen creeëren voor de categoriale variabelen. Gender, age, education. Dit ga je uiteindelijk gebruiken om het gemiddelde aantal stappen per individu te voorspellen."
   ]
  },
  {
   "cell_type": "code",
   "execution_count": 31,
   "metadata": {},
   "outputs": [
    {
     "ename": "KeyError",
     "evalue": "\"['age', 'gender', 'education_1'] not in index\"",
     "output_type": "error",
     "traceback": [
      "\u001b[1;31m---------------------------------------------------------------------------\u001b[0m",
      "\u001b[1;31mKeyError\u001b[0m                                  Traceback (most recent call last)",
      "\u001b[1;32m<ipython-input-31-ebf36479ed89>\u001b[0m in \u001b[0;36m<module>\u001b[1;34m\u001b[0m\n\u001b[1;32m----> 1\u001b[1;33m \u001b[0mdf_subset\u001b[0m \u001b[1;33m=\u001b[0m \u001b[0mdf\u001b[0m\u001b[1;33m[\u001b[0m\u001b[1;33m[\u001b[0m\u001b[1;34m'gender'\u001b[0m\u001b[1;33m,\u001b[0m \u001b[1;34m'age'\u001b[0m\u001b[1;33m,\u001b[0m \u001b[1;34m'education_1'\u001b[0m\u001b[1;33m,\u001b[0m \u001b[1;34m'steps_mean'\u001b[0m\u001b[1;33m]\u001b[0m\u001b[1;33m]\u001b[0m\u001b[1;33m\u001b[0m\u001b[1;33m\u001b[0m\u001b[0m\n\u001b[0m\u001b[0;32m      2\u001b[0m \u001b[0mdf_subset\u001b[0m\u001b[1;33m.\u001b[0m\u001b[0mhead\u001b[0m\u001b[1;33m(\u001b[0m\u001b[1;33m)\u001b[0m\u001b[1;33m\u001b[0m\u001b[1;33m\u001b[0m\u001b[0m\n",
      "\u001b[1;32m~\\anaconda3\\lib\\site-packages\\pandas\\core\\frame.py\u001b[0m in \u001b[0;36m__getitem__\u001b[1;34m(self, key)\u001b[0m\n\u001b[0;32m   3028\u001b[0m             \u001b[1;32mif\u001b[0m \u001b[0mis_iterator\u001b[0m\u001b[1;33m(\u001b[0m\u001b[0mkey\u001b[0m\u001b[1;33m)\u001b[0m\u001b[1;33m:\u001b[0m\u001b[1;33m\u001b[0m\u001b[1;33m\u001b[0m\u001b[0m\n\u001b[0;32m   3029\u001b[0m                 \u001b[0mkey\u001b[0m \u001b[1;33m=\u001b[0m \u001b[0mlist\u001b[0m\u001b[1;33m(\u001b[0m\u001b[0mkey\u001b[0m\u001b[1;33m)\u001b[0m\u001b[1;33m\u001b[0m\u001b[1;33m\u001b[0m\u001b[0m\n\u001b[1;32m-> 3030\u001b[1;33m             \u001b[0mindexer\u001b[0m \u001b[1;33m=\u001b[0m \u001b[0mself\u001b[0m\u001b[1;33m.\u001b[0m\u001b[0mloc\u001b[0m\u001b[1;33m.\u001b[0m\u001b[0m_get_listlike_indexer\u001b[0m\u001b[1;33m(\u001b[0m\u001b[0mkey\u001b[0m\u001b[1;33m,\u001b[0m \u001b[0maxis\u001b[0m\u001b[1;33m=\u001b[0m\u001b[1;36m1\u001b[0m\u001b[1;33m,\u001b[0m \u001b[0mraise_missing\u001b[0m\u001b[1;33m=\u001b[0m\u001b[1;32mTrue\u001b[0m\u001b[1;33m)\u001b[0m\u001b[1;33m[\u001b[0m\u001b[1;36m1\u001b[0m\u001b[1;33m]\u001b[0m\u001b[1;33m\u001b[0m\u001b[1;33m\u001b[0m\u001b[0m\n\u001b[0m\u001b[0;32m   3031\u001b[0m \u001b[1;33m\u001b[0m\u001b[0m\n\u001b[0;32m   3032\u001b[0m         \u001b[1;31m# take() does not accept boolean indexers\u001b[0m\u001b[1;33m\u001b[0m\u001b[1;33m\u001b[0m\u001b[1;33m\u001b[0m\u001b[0m\n",
      "\u001b[1;32m~\\anaconda3\\lib\\site-packages\\pandas\\core\\indexing.py\u001b[0m in \u001b[0;36m_get_listlike_indexer\u001b[1;34m(self, key, axis, raise_missing)\u001b[0m\n\u001b[0;32m   1264\u001b[0m             \u001b[0mkeyarr\u001b[0m\u001b[1;33m,\u001b[0m \u001b[0mindexer\u001b[0m\u001b[1;33m,\u001b[0m \u001b[0mnew_indexer\u001b[0m \u001b[1;33m=\u001b[0m \u001b[0max\u001b[0m\u001b[1;33m.\u001b[0m\u001b[0m_reindex_non_unique\u001b[0m\u001b[1;33m(\u001b[0m\u001b[0mkeyarr\u001b[0m\u001b[1;33m)\u001b[0m\u001b[1;33m\u001b[0m\u001b[1;33m\u001b[0m\u001b[0m\n\u001b[0;32m   1265\u001b[0m \u001b[1;33m\u001b[0m\u001b[0m\n\u001b[1;32m-> 1266\u001b[1;33m         \u001b[0mself\u001b[0m\u001b[1;33m.\u001b[0m\u001b[0m_validate_read_indexer\u001b[0m\u001b[1;33m(\u001b[0m\u001b[0mkeyarr\u001b[0m\u001b[1;33m,\u001b[0m \u001b[0mindexer\u001b[0m\u001b[1;33m,\u001b[0m \u001b[0maxis\u001b[0m\u001b[1;33m,\u001b[0m \u001b[0mraise_missing\u001b[0m\u001b[1;33m=\u001b[0m\u001b[0mraise_missing\u001b[0m\u001b[1;33m)\u001b[0m\u001b[1;33m\u001b[0m\u001b[1;33m\u001b[0m\u001b[0m\n\u001b[0m\u001b[0;32m   1267\u001b[0m         \u001b[1;32mreturn\u001b[0m \u001b[0mkeyarr\u001b[0m\u001b[1;33m,\u001b[0m \u001b[0mindexer\u001b[0m\u001b[1;33m\u001b[0m\u001b[1;33m\u001b[0m\u001b[0m\n\u001b[0;32m   1268\u001b[0m \u001b[1;33m\u001b[0m\u001b[0m\n",
      "\u001b[1;32m~\\anaconda3\\lib\\site-packages\\pandas\\core\\indexing.py\u001b[0m in \u001b[0;36m_validate_read_indexer\u001b[1;34m(self, key, indexer, axis, raise_missing)\u001b[0m\n\u001b[0;32m   1314\u001b[0m             \u001b[1;32mif\u001b[0m \u001b[0mraise_missing\u001b[0m\u001b[1;33m:\u001b[0m\u001b[1;33m\u001b[0m\u001b[1;33m\u001b[0m\u001b[0m\n\u001b[0;32m   1315\u001b[0m                 \u001b[0mnot_found\u001b[0m \u001b[1;33m=\u001b[0m \u001b[0mlist\u001b[0m\u001b[1;33m(\u001b[0m\u001b[0mset\u001b[0m\u001b[1;33m(\u001b[0m\u001b[0mkey\u001b[0m\u001b[1;33m)\u001b[0m \u001b[1;33m-\u001b[0m \u001b[0mset\u001b[0m\u001b[1;33m(\u001b[0m\u001b[0max\u001b[0m\u001b[1;33m)\u001b[0m\u001b[1;33m)\u001b[0m\u001b[1;33m\u001b[0m\u001b[1;33m\u001b[0m\u001b[0m\n\u001b[1;32m-> 1316\u001b[1;33m                 \u001b[1;32mraise\u001b[0m \u001b[0mKeyError\u001b[0m\u001b[1;33m(\u001b[0m\u001b[1;34mf\"{not_found} not in index\"\u001b[0m\u001b[1;33m)\u001b[0m\u001b[1;33m\u001b[0m\u001b[1;33m\u001b[0m\u001b[0m\n\u001b[0m\u001b[0;32m   1317\u001b[0m \u001b[1;33m\u001b[0m\u001b[0m\n\u001b[0;32m   1318\u001b[0m             \u001b[0mnot_found\u001b[0m \u001b[1;33m=\u001b[0m \u001b[0mkey\u001b[0m\u001b[1;33m[\u001b[0m\u001b[0mmissing_mask\u001b[0m\u001b[1;33m]\u001b[0m\u001b[1;33m\u001b[0m\u001b[1;33m\u001b[0m\u001b[0m\n",
      "\u001b[1;31mKeyError\u001b[0m: \"['age', 'gender', 'education_1'] not in index\""
     ]
    }
   ],
   "source": [
    "df_subset = df[['gender', 'age', 'education_1', 'steps_mean']]\n",
    "df_subset.head()"
   ]
  },
  {
   "cell_type": "code",
   "execution_count": 32,
   "metadata": {},
   "outputs": [
    {
     "ename": "SyntaxError",
     "evalue": "invalid syntax (<ipython-input-32-bb8e0b905950>, line 1)",
     "output_type": "error",
     "traceback": [
      "\u001b[1;36m  File \u001b[1;32m\"<ipython-input-32-bb8e0b905950>\"\u001b[1;36m, line \u001b[1;32m1\u001b[0m\n\u001b[1;33m    Waardes per variabelen tellen :\u001b[0m\n\u001b[1;37m            ^\u001b[0m\n\u001b[1;31mSyntaxError\u001b[0m\u001b[1;31m:\u001b[0m invalid syntax\n"
     ]
    }
   ],
   "source": [
    "Waardes per variabelen tellen :\n",
    "    "
   ]
  },
  {
   "cell_type": "code",
   "execution_count": 33,
   "metadata": {},
   "outputs": [
    {
     "data": {
      "text/plain": [
       "Master or doctorate    409\n",
       "Bachelor               355\n",
       "High school            106\n",
       "Vocational              40\n",
       "Primary                 13\n",
       "No degree                1\n",
       "Name: education_1, dtype: int64"
      ]
     },
     "execution_count": 33,
     "metadata": {},
     "output_type": "execute_result"
    }
   ],
   "source": [
    "df_subset['education_1'].value_counts()\n"
   ]
  },
  {
   "cell_type": "code",
   "execution_count": null,
   "metadata": {},
   "outputs": [],
   "source": []
  },
  {
   "cell_type": "code",
   "execution_count": 34,
   "metadata": {},
   "outputs": [
    {
     "data": {
      "text/plain": [
       "Male      491\n",
       "Female    433\n",
       "Name: gender, dtype: int64"
      ]
     },
     "execution_count": 34,
     "metadata": {},
     "output_type": "execute_result"
    }
   ],
   "source": [
    "df_subset['gender'].value_counts()\n"
   ]
  },
  {
   "cell_type": "code",
   "execution_count": 35,
   "metadata": {},
   "outputs": [
    {
     "data": {
      "text/plain": [
       "25-34    425\n",
       "35-44    176\n",
       "45-54    146\n",
       "<25      124\n",
       "55-64     46\n",
       "65+        7\n",
       "Name: age, dtype: int64"
      ]
     },
     "execution_count": 35,
     "metadata": {},
     "output_type": "execute_result"
    }
   ],
   "source": [
    "df_subset['age'].value_counts()"
   ]
  },
  {
   "cell_type": "markdown",
   "metadata": {},
   "source": [
    "De volgende stap is om van deze variabelen dummy's te maken.\n"
   ]
  },
  {
   "cell_type": "code",
   "execution_count": 36,
   "metadata": {},
   "outputs": [
    {
     "data": {
      "text/html": [
       "<div>\n",
       "<style scoped>\n",
       "    .dataframe tbody tr th:only-of-type {\n",
       "        vertical-align: middle;\n",
       "    }\n",
       "\n",
       "    .dataframe tbody tr th {\n",
       "        vertical-align: top;\n",
       "    }\n",
       "\n",
       "    .dataframe thead th {\n",
       "        text-align: right;\n",
       "    }\n",
       "</style>\n",
       "<table border=\"1\" class=\"dataframe\">\n",
       "  <thead>\n",
       "    <tr style=\"text-align: right;\">\n",
       "      <th></th>\n",
       "      <th>steps_mean</th>\n",
       "      <th>gender_Male</th>\n",
       "      <th>age_35-44</th>\n",
       "      <th>age_45-54</th>\n",
       "      <th>age_55-64</th>\n",
       "      <th>age_65+</th>\n",
       "      <th>age_&lt;25</th>\n",
       "      <th>education_1_High school</th>\n",
       "      <th>education_1_Master or doctorate</th>\n",
       "      <th>education_1_No degree</th>\n",
       "      <th>education_1_Primary</th>\n",
       "      <th>education_1_Vocational</th>\n",
       "    </tr>\n",
       "  </thead>\n",
       "  <tbody>\n",
       "    <tr>\n",
       "      <th>0</th>\n",
       "      <td>10205.521212</td>\n",
       "      <td>1</td>\n",
       "      <td>0</td>\n",
       "      <td>0</td>\n",
       "      <td>0</td>\n",
       "      <td>0</td>\n",
       "      <td>0</td>\n",
       "      <td>0</td>\n",
       "      <td>1</td>\n",
       "      <td>0</td>\n",
       "      <td>0</td>\n",
       "      <td>0</td>\n",
       "    </tr>\n",
       "    <tr>\n",
       "      <th>1</th>\n",
       "      <td>5687.423313</td>\n",
       "      <td>1</td>\n",
       "      <td>1</td>\n",
       "      <td>0</td>\n",
       "      <td>0</td>\n",
       "      <td>0</td>\n",
       "      <td>0</td>\n",
       "      <td>0</td>\n",
       "      <td>0</td>\n",
       "      <td>0</td>\n",
       "      <td>0</td>\n",
       "      <td>0</td>\n",
       "    </tr>\n",
       "    <tr>\n",
       "      <th>2</th>\n",
       "      <td>8301.729730</td>\n",
       "      <td>1</td>\n",
       "      <td>0</td>\n",
       "      <td>0</td>\n",
       "      <td>0</td>\n",
       "      <td>0</td>\n",
       "      <td>0</td>\n",
       "      <td>0</td>\n",
       "      <td>1</td>\n",
       "      <td>0</td>\n",
       "      <td>0</td>\n",
       "      <td>0</td>\n",
       "    </tr>\n",
       "    <tr>\n",
       "      <th>3</th>\n",
       "      <td>3633.200000</td>\n",
       "      <td>1</td>\n",
       "      <td>0</td>\n",
       "      <td>0</td>\n",
       "      <td>0</td>\n",
       "      <td>0</td>\n",
       "      <td>1</td>\n",
       "      <td>0</td>\n",
       "      <td>0</td>\n",
       "      <td>0</td>\n",
       "      <td>0</td>\n",
       "      <td>0</td>\n",
       "    </tr>\n",
       "    <tr>\n",
       "      <th>4</th>\n",
       "      <td>5312.129630</td>\n",
       "      <td>0</td>\n",
       "      <td>0</td>\n",
       "      <td>0</td>\n",
       "      <td>0</td>\n",
       "      <td>0</td>\n",
       "      <td>0</td>\n",
       "      <td>0</td>\n",
       "      <td>0</td>\n",
       "      <td>0</td>\n",
       "      <td>0</td>\n",
       "      <td>0</td>\n",
       "    </tr>\n",
       "  </tbody>\n",
       "</table>\n",
       "</div>"
      ],
      "text/plain": [
       "     steps_mean  gender_Male  age_35-44  age_45-54  age_55-64  age_65+  \\\n",
       "0  10205.521212            1          0          0          0        0   \n",
       "1   5687.423313            1          1          0          0        0   \n",
       "2   8301.729730            1          0          0          0        0   \n",
       "3   3633.200000            1          0          0          0        0   \n",
       "4   5312.129630            0          0          0          0        0   \n",
       "\n",
       "   age_<25  education_1_High school  education_1_Master or doctorate  \\\n",
       "0        0                        0                                1   \n",
       "1        0                        0                                0   \n",
       "2        0                        0                                1   \n",
       "3        1                        0                                0   \n",
       "4        0                        0                                0   \n",
       "\n",
       "   education_1_No degree  education_1_Primary  education_1_Vocational  \n",
       "0                      0                    0                       0  \n",
       "1                      0                    0                       0  \n",
       "2                      0                    0                       0  \n",
       "3                      0                    0                       0  \n",
       "4                      0                    0                       0  "
      ]
     },
     "execution_count": 36,
     "metadata": {},
     "output_type": "execute_result"
    }
   ],
   "source": [
    "df = pd.get_dummies(df_subset,columns=['gender', 'age', 'education_1'],drop_first= True) #dummy aanmaken\n",
    "df.head()"
   ]
  },
  {
   "cell_type": "markdown",
   "metadata": {},
   "source": [
    "Datasplitten voor lineaire regressie. "
   ]
  },
  {
   "cell_type": "code",
   "execution_count": 37,
   "metadata": {},
   "outputs": [],
   "source": [
    "x = df.loc[:, ~df.columns.isin(['steps_mean'])]\n",
    "y = df['steps_mean']\n",
    "\n",
    "x_train, x_test, y_train, y_test = train_test_split(x, y, test_size = 0.3,random_state=23) #splits the data into train (70%) and test (30%) data"
   ]
  },
  {
   "cell_type": "markdown",
   "metadata": {},
   "source": [
    "We gaan nu het model fitten. Dit gebeurd alleen met de train data!!!"
   ]
  },
  {
   "cell_type": "code",
   "execution_count": 38,
   "metadata": {},
   "outputs": [],
   "source": [
    "lm = LinearRegression() #nieuw model creeëren\n",
    "\n",
    "lm = lm.fit(x_train, y_train) #Model fitten"
   ]
  },
  {
   "cell_type": "markdown",
   "metadata": {},
   "source": [
    "Nu gaan we voorspellen aan de hand van de nog niet gebruikte test data.\n"
   ]
  },
  {
   "cell_type": "code",
   "execution_count": 39,
   "metadata": {},
   "outputs": [],
   "source": [
    "y_test_p = lm.predict(x_test)"
   ]
  },
  {
   "cell_type": "markdown",
   "metadata": {},
   "source": [
    "We gaan nu de R^2 waarde berekenen. "
   ]
  },
  {
   "cell_type": "code",
   "execution_count": 40,
   "metadata": {},
   "outputs": [
    {
     "data": {
      "text/plain": [
       "0.003921836975672277"
      ]
     },
     "execution_count": 40,
     "metadata": {},
     "output_type": "execute_result"
    }
   ],
   "source": [
    "r2_score(y_test, y_test_p) #this gives the model fit (R2) for the Y and predicted Y"
   ]
  },
  {
   "cell_type": "markdown",
   "metadata": {},
   "source": [
    "Er komt een erg lage waarde van 0,0039 uit. Dit betekent dat de variatie van het gemiddelde aantal maar voor 0,3 procent voorspeld kan worden aan de hand van. dit model"
   ]
  },
  {
   "cell_type": "code",
   "execution_count": 41,
   "metadata": {},
   "outputs": [
    {
     "data": {
      "text/plain": [
       "3238.197305352834"
      ]
     },
     "execution_count": 41,
     "metadata": {},
     "output_type": "execute_result"
    }
   ],
   "source": [
    "math.sqrt(mean_squared_error(y_test, y_test_p)) #this gives the model fit (R2) for the Y and predicted Y"
   ]
  },
  {
   "cell_type": "markdown",
   "metadata": {},
   "source": [
    "Uit deze waarde blijkt dat de waarden gemiddeld 3238 er naast zit. "
   ]
  },
  {
   "cell_type": "markdown",
   "metadata": {},
   "source": [
    "Ik had ook waardes apart willen bekijken. Echter is de deadline over een paar minuten dus moet het voor nu hier bij laten. "
   ]
  }
 ],
 "metadata": {
  "kernelspec": {
   "display_name": "Python 3",
   "language": "python",
   "name": "python3"
  },
  "language_info": {
   "codemirror_mode": {
    "name": "ipython",
    "version": 3
   },
   "file_extension": ".py",
   "mimetype": "text/x-python",
   "name": "python",
   "nbconvert_exporter": "python",
   "pygments_lexer": "ipython3",
   "version": "3.8.5"
  }
 },
 "nbformat": 4,
 "nbformat_minor": 5
}
